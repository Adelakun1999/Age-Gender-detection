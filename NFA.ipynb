{
 "cells": [
  {
   "cell_type": "code",
   "execution_count": 1,
   "id": "45d91326",
   "metadata": {},
   "outputs": [],
   "source": [
    "import pandas as pd\n",
    "import numpy as np\n",
    "import seaborn as sns\n",
    "import matplotlib.pyplot as plt\n",
    "\n",
    "import warnings\n",
    "warnings.filterwarnings('ignore')"
   ]
  },
  {
   "cell_type": "code",
   "execution_count": 2,
   "id": "b733ffd9",
   "metadata": {},
   "outputs": [
    {
     "data": {
      "text/html": [
       "<div>\n",
       "<style scoped>\n",
       "    .dataframe tbody tr th:only-of-type {\n",
       "        vertical-align: middle;\n",
       "    }\n",
       "\n",
       "    .dataframe tbody tr th {\n",
       "        vertical-align: top;\n",
       "    }\n",
       "\n",
       "    .dataframe thead th {\n",
       "        text-align: right;\n",
       "    }\n",
       "</style>\n",
       "<table border=\"1\" class=\"dataframe\">\n",
       "  <thead>\n",
       "    <tr style=\"text-align: right;\">\n",
       "      <th></th>\n",
       "      <th>country</th>\n",
       "      <th>year</th>\n",
       "      <th>country_code</th>\n",
       "      <th>record</th>\n",
       "      <th>crop_land</th>\n",
       "      <th>grazing_land</th>\n",
       "      <th>forest_land</th>\n",
       "      <th>fishing_ground</th>\n",
       "      <th>built_up_land</th>\n",
       "      <th>carbon</th>\n",
       "      <th>total</th>\n",
       "      <th>QScore</th>\n",
       "    </tr>\n",
       "  </thead>\n",
       "  <tbody>\n",
       "    <tr>\n",
       "      <th>0</th>\n",
       "      <td>Armenia</td>\n",
       "      <td>1992</td>\n",
       "      <td>1</td>\n",
       "      <td>AreaPerCap</td>\n",
       "      <td>0.140292</td>\n",
       "      <td>0.199546</td>\n",
       "      <td>0.097188051</td>\n",
       "      <td>0.036888</td>\n",
       "      <td>0.029320</td>\n",
       "      <td>0.000000</td>\n",
       "      <td>5.032351e-01</td>\n",
       "      <td>3A</td>\n",
       "    </tr>\n",
       "    <tr>\n",
       "      <th>1</th>\n",
       "      <td>Armenia</td>\n",
       "      <td>1992</td>\n",
       "      <td>1</td>\n",
       "      <td>AreaTotHA</td>\n",
       "      <td>483000.000000</td>\n",
       "      <td>687000.000000</td>\n",
       "      <td>334600</td>\n",
       "      <td>127000.000000</td>\n",
       "      <td>100943.000800</td>\n",
       "      <td>0.000000</td>\n",
       "      <td>1.732543e+06</td>\n",
       "      <td>3A</td>\n",
       "    </tr>\n",
       "    <tr>\n",
       "      <th>2</th>\n",
       "      <td>Armenia</td>\n",
       "      <td>1992</td>\n",
       "      <td>1</td>\n",
       "      <td>BiocapPerCap</td>\n",
       "      <td>0.159804</td>\n",
       "      <td>0.135261</td>\n",
       "      <td>0.084003213</td>\n",
       "      <td>0.013742</td>\n",
       "      <td>0.033398</td>\n",
       "      <td>0.000000</td>\n",
       "      <td>4.262086e-01</td>\n",
       "      <td>3A</td>\n",
       "    </tr>\n",
       "    <tr>\n",
       "      <th>3</th>\n",
       "      <td>Armenia</td>\n",
       "      <td>1992</td>\n",
       "      <td>1</td>\n",
       "      <td>BiocapTotGHA</td>\n",
       "      <td>550176.242700</td>\n",
       "      <td>465677.972200</td>\n",
       "      <td>289207.1078</td>\n",
       "      <td>47311.551720</td>\n",
       "      <td>114982.279300</td>\n",
       "      <td>0.000000</td>\n",
       "      <td>1.467355e+06</td>\n",
       "      <td>3A</td>\n",
       "    </tr>\n",
       "    <tr>\n",
       "      <th>4</th>\n",
       "      <td>Armenia</td>\n",
       "      <td>1992</td>\n",
       "      <td>1</td>\n",
       "      <td>EFConsPerCap</td>\n",
       "      <td>0.387510</td>\n",
       "      <td>0.189462</td>\n",
       "      <td>1.26E-06</td>\n",
       "      <td>0.004165</td>\n",
       "      <td>0.033398</td>\n",
       "      <td>1.114093</td>\n",
       "      <td>1.728629e+00</td>\n",
       "      <td>3A</td>\n",
       "    </tr>\n",
       "  </tbody>\n",
       "</table>\n",
       "</div>"
      ],
      "text/plain": [
       "   country  year  country_code        record      crop_land   grazing_land  \\\n",
       "0  Armenia  1992             1    AreaPerCap       0.140292       0.199546   \n",
       "1  Armenia  1992             1     AreaTotHA  483000.000000  687000.000000   \n",
       "2  Armenia  1992             1  BiocapPerCap       0.159804       0.135261   \n",
       "3  Armenia  1992             1  BiocapTotGHA  550176.242700  465677.972200   \n",
       "4  Armenia  1992             1  EFConsPerCap       0.387510       0.189462   \n",
       "\n",
       "   forest_land  fishing_ground  built_up_land    carbon         total QScore  \n",
       "0  0.097188051        0.036888       0.029320  0.000000  5.032351e-01     3A  \n",
       "1       334600   127000.000000  100943.000800  0.000000  1.732543e+06     3A  \n",
       "2  0.084003213        0.013742       0.033398  0.000000  4.262086e-01     3A  \n",
       "3  289207.1078    47311.551720  114982.279300  0.000000  1.467355e+06     3A  \n",
       "4     1.26E-06        0.004165       0.033398  1.114093  1.728629e+00     3A  "
      ]
     },
     "execution_count": 2,
     "metadata": {},
     "output_type": "execute_result"
    }
   ],
   "source": [
    "df=pd.read_csv('NFA 2019 public_data.csv')\n",
    "df.head()"
   ]
  },
  {
   "cell_type": "code",
   "execution_count": 3,
   "id": "a8961e1b",
   "metadata": {},
   "outputs": [
    {
     "data": {
      "text/plain": [
       "3A    51481\n",
       "2A    10576\n",
       "2B    10096\n",
       "1B       16\n",
       "1A       16\n",
       "Name: QScore, dtype: int64"
      ]
     },
     "execution_count": 3,
     "metadata": {},
     "output_type": "execute_result"
    }
   ],
   "source": [
    "df['QScore'].value_counts()"
   ]
  },
  {
   "cell_type": "code",
   "execution_count": 4,
   "id": "a670f4d4",
   "metadata": {},
   "outputs": [
    {
     "data": {
      "text/plain": [
       "country               0\n",
       "year                  0\n",
       "country_code          0\n",
       "record                0\n",
       "crop_land         20472\n",
       "grazing_land      20472\n",
       "forest_land       20472\n",
       "fishing_ground    20473\n",
       "built_up_land     20473\n",
       "carbon            20473\n",
       "total                 9\n",
       "QScore                1\n",
       "dtype: int64"
      ]
     },
     "execution_count": 4,
     "metadata": {},
     "output_type": "execute_result"
    }
   ],
   "source": [
    "df.isnull().sum()"
   ]
  },
  {
   "cell_type": "code",
   "execution_count": 5,
   "id": "d726d4d6",
   "metadata": {},
   "outputs": [
    {
     "data": {
      "text/plain": [
       "(72186, 12)"
      ]
     },
     "execution_count": 5,
     "metadata": {},
     "output_type": "execute_result"
    }
   ],
   "source": [
    "df.shape"
   ]
  },
  {
   "cell_type": "code",
   "execution_count": 6,
   "id": "9096c9ec",
   "metadata": {},
   "outputs": [],
   "source": [
    "#for simplicity we will drop the missing values\n",
    "df=df.dropna()"
   ]
  },
  {
   "cell_type": "code",
   "execution_count": 7,
   "id": "4fdbb03c",
   "metadata": {},
   "outputs": [
    {
     "data": {
      "text/plain": [
       "(51713, 12)"
      ]
     },
     "execution_count": 7,
     "metadata": {},
     "output_type": "execute_result"
    }
   ],
   "source": [
    "df.shape"
   ]
  },
  {
   "cell_type": "code",
   "execution_count": 8,
   "id": "522cd3a5",
   "metadata": {},
   "outputs": [
    {
     "data": {
      "text/plain": [
       "3A    51473\n",
       "2A      224\n",
       "1A       16\n",
       "Name: QScore, dtype: int64"
      ]
     },
     "execution_count": 8,
     "metadata": {},
     "output_type": "execute_result"
    }
   ],
   "source": [
    "df['QScore'].value_counts()"
   ]
  },
  {
   "cell_type": "markdown",
   "id": "3ccb5fd3",
   "metadata": {},
   "source": [
    "An obvious change in our target variable after removing the missing values is that there\n",
    "are only three classes left #and from the distribution of the 3 classes, we can see that\n",
    "there is an obvious imbalance between the classes. #There are methods that can be applied to\n",
    "handle this imbalance such as oversampling and undersampling.\n",
    "#Oversampling involves increasing the number of instances in the class with fewer instances\n",
    "while undersampling #involves reducing the data points in the class with more instances.\n",
    "#For now, we will convert this to a binary classification problem by combining class '2A'\n",
    "and '1A'."
   ]
  },
  {
   "cell_type": "code",
   "execution_count": 9,
   "id": "50c3c636",
   "metadata": {},
   "outputs": [],
   "source": [
    "df['QScore']=df['QScore'].replace('1A','2A')"
   ]
  },
  {
   "cell_type": "code",
   "execution_count": 10,
   "id": "255f2172",
   "metadata": {},
   "outputs": [
    {
     "data": {
      "text/plain": [
       "3A    51473\n",
       "2A      240\n",
       "Name: QScore, dtype: int64"
      ]
     },
     "execution_count": 10,
     "metadata": {},
     "output_type": "execute_result"
    }
   ],
   "source": [
    "df['QScore'].value_counts()"
   ]
  },
  {
   "cell_type": "code",
   "execution_count": 11,
   "id": "05646c2a",
   "metadata": {},
   "outputs": [],
   "source": [
    "df_2A=df[df['QScore']=='2A']\n",
    "df_3A=df[df['QScore']=='3A'].sample(350)"
   ]
  },
  {
   "cell_type": "code",
   "execution_count": 12,
   "id": "2e035c09",
   "metadata": {},
   "outputs": [],
   "source": [
    "data_df=df_2A.append(df_3A)"
   ]
  },
  {
   "cell_type": "code",
   "execution_count": 13,
   "id": "4aa0d505",
   "metadata": {},
   "outputs": [
    {
     "data": {
      "text/html": [
       "<div>\n",
       "<style scoped>\n",
       "    .dataframe tbody tr th:only-of-type {\n",
       "        vertical-align: middle;\n",
       "    }\n",
       "\n",
       "    .dataframe tbody tr th {\n",
       "        vertical-align: top;\n",
       "    }\n",
       "\n",
       "    .dataframe thead th {\n",
       "        text-align: right;\n",
       "    }\n",
       "</style>\n",
       "<table border=\"1\" class=\"dataframe\">\n",
       "  <thead>\n",
       "    <tr style=\"text-align: right;\">\n",
       "      <th></th>\n",
       "      <th>country</th>\n",
       "      <th>year</th>\n",
       "      <th>country_code</th>\n",
       "      <th>record</th>\n",
       "      <th>crop_land</th>\n",
       "      <th>grazing_land</th>\n",
       "      <th>forest_land</th>\n",
       "      <th>fishing_ground</th>\n",
       "      <th>built_up_land</th>\n",
       "      <th>carbon</th>\n",
       "      <th>total</th>\n",
       "      <th>QScore</th>\n",
       "    </tr>\n",
       "  </thead>\n",
       "  <tbody>\n",
       "    <tr>\n",
       "      <th>1536</th>\n",
       "      <td>Algeria</td>\n",
       "      <td>2016</td>\n",
       "      <td>4</td>\n",
       "      <td>AreaPerCap</td>\n",
       "      <td>2.072989e-01</td>\n",
       "      <td>8.112722e-01</td>\n",
       "      <td>0.048357265</td>\n",
       "      <td>2.258528e-02</td>\n",
       "      <td>2.998367e-02</td>\n",
       "      <td>0.000000e+00</td>\n",
       "      <td>1.119497e+00</td>\n",
       "      <td>2A</td>\n",
       "    </tr>\n",
       "    <tr>\n",
       "      <th>1537</th>\n",
       "      <td>Algeria</td>\n",
       "      <td>2016</td>\n",
       "      <td>4</td>\n",
       "      <td>AreaTotHA</td>\n",
       "      <td>8.417600e+06</td>\n",
       "      <td>3.294260e+07</td>\n",
       "      <td>1963600</td>\n",
       "      <td>9.171000e+05</td>\n",
       "      <td>1.217520e+06</td>\n",
       "      <td>0.000000e+00</td>\n",
       "      <td>4.545842e+07</td>\n",
       "      <td>2A</td>\n",
       "    </tr>\n",
       "    <tr>\n",
       "      <th>1538</th>\n",
       "      <td>Algeria</td>\n",
       "      <td>2016</td>\n",
       "      <td>4</td>\n",
       "      <td>BiocapPerCap</td>\n",
       "      <td>2.021916e-01</td>\n",
       "      <td>2.636077e-01</td>\n",
       "      <td>0.027166736</td>\n",
       "      <td>7.947991e-03</td>\n",
       "      <td>2.924496e-02</td>\n",
       "      <td>0.000000e+00</td>\n",
       "      <td>5.301590e-01</td>\n",
       "      <td>2A</td>\n",
       "    </tr>\n",
       "    <tr>\n",
       "      <th>1539</th>\n",
       "      <td>Algeria</td>\n",
       "      <td>2016</td>\n",
       "      <td>4</td>\n",
       "      <td>BiocapTotGHA</td>\n",
       "      <td>8.210214e+06</td>\n",
       "      <td>1.070408e+07</td>\n",
       "      <td>1103135.245</td>\n",
       "      <td>3.227369e+05</td>\n",
       "      <td>1.187524e+06</td>\n",
       "      <td>0.000000e+00</td>\n",
       "      <td>2.152769e+07</td>\n",
       "      <td>2A</td>\n",
       "    </tr>\n",
       "    <tr>\n",
       "      <th>1540</th>\n",
       "      <td>Algeria</td>\n",
       "      <td>2016</td>\n",
       "      <td>4</td>\n",
       "      <td>EFConsPerCap</td>\n",
       "      <td>6.280528e-01</td>\n",
       "      <td>1.810332e-01</td>\n",
       "      <td>0.162800822</td>\n",
       "      <td>1.472910e-02</td>\n",
       "      <td>2.924496e-02</td>\n",
       "      <td>1.391455e+00</td>\n",
       "      <td>2.407316e+00</td>\n",
       "      <td>2A</td>\n",
       "    </tr>\n",
       "    <tr>\n",
       "      <th>...</th>\n",
       "      <td>...</td>\n",
       "      <td>...</td>\n",
       "      <td>...</td>\n",
       "      <td>...</td>\n",
       "      <td>...</td>\n",
       "      <td>...</td>\n",
       "      <td>...</td>\n",
       "      <td>...</td>\n",
       "      <td>...</td>\n",
       "      <td>...</td>\n",
       "      <td>...</td>\n",
       "      <td>...</td>\n",
       "    </tr>\n",
       "    <tr>\n",
       "      <th>18517</th>\n",
       "      <td>El Salvador</td>\n",
       "      <td>1978</td>\n",
       "      <td>60</td>\n",
       "      <td>EFConsTotGHA</td>\n",
       "      <td>1.426707e+06</td>\n",
       "      <td>8.448342e+05</td>\n",
       "      <td>1511534.046</td>\n",
       "      <td>2.235366e+04</td>\n",
       "      <td>3.120571e+05</td>\n",
       "      <td>1.703008e+06</td>\n",
       "      <td>5.820495e+06</td>\n",
       "      <td>3A</td>\n",
       "    </tr>\n",
       "    <tr>\n",
       "      <th>49917</th>\n",
       "      <td>Portugal</td>\n",
       "      <td>1983</td>\n",
       "      <td>174</td>\n",
       "      <td>BiocapTotGHA</td>\n",
       "      <td>2.421672e+06</td>\n",
       "      <td>7.510571e+05</td>\n",
       "      <td>8675585.105</td>\n",
       "      <td>7.848406e+05</td>\n",
       "      <td>1.520129e+05</td>\n",
       "      <td>0.000000e+00</td>\n",
       "      <td>1.278517e+07</td>\n",
       "      <td>3A</td>\n",
       "    </tr>\n",
       "    <tr>\n",
       "      <th>67457</th>\n",
       "      <td>Venezuela, Bolivarian Republic of</td>\n",
       "      <td>2015</td>\n",
       "      <td>236</td>\n",
       "      <td>EFProdTotGHA</td>\n",
       "      <td>3.463971e+06</td>\n",
       "      <td>1.732704e+07</td>\n",
       "      <td>2547600.481</td>\n",
       "      <td>2.128542e+06</td>\n",
       "      <td>9.241772e+05</td>\n",
       "      <td>5.039439e+07</td>\n",
       "      <td>7.678571e+07</td>\n",
       "      <td>3A</td>\n",
       "    </tr>\n",
       "    <tr>\n",
       "      <th>372</th>\n",
       "      <td>Afghanistan</td>\n",
       "      <td>1982</td>\n",
       "      <td>2</td>\n",
       "      <td>EFConsPerCap</td>\n",
       "      <td>3.792774e-01</td>\n",
       "      <td>4.080230e-01</td>\n",
       "      <td>0.111879558</td>\n",
       "      <td>8.700000e-05</td>\n",
       "      <td>2.658155e-02</td>\n",
       "      <td>7.858304e-02</td>\n",
       "      <td>1.004432e+00</td>\n",
       "      <td>3A</td>\n",
       "    </tr>\n",
       "    <tr>\n",
       "      <th>50160</th>\n",
       "      <td>Portugal</td>\n",
       "      <td>2013</td>\n",
       "      <td>174</td>\n",
       "      <td>EFProdPerCap</td>\n",
       "      <td>2.440756e-01</td>\n",
       "      <td>6.086513e-02</td>\n",
       "      <td>0.697083782</td>\n",
       "      <td>2.204087e-01</td>\n",
       "      <td>2.300852e-02</td>\n",
       "      <td>1.564888e+00</td>\n",
       "      <td>2.810330e+00</td>\n",
       "      <td>3A</td>\n",
       "    </tr>\n",
       "  </tbody>\n",
       "</table>\n",
       "<p>590 rows × 12 columns</p>\n",
       "</div>"
      ],
      "text/plain": [
       "                                 country  year  country_code        record  \\\n",
       "1536                             Algeria  2016             4    AreaPerCap   \n",
       "1537                             Algeria  2016             4     AreaTotHA   \n",
       "1538                             Algeria  2016             4  BiocapPerCap   \n",
       "1539                             Algeria  2016             4  BiocapTotGHA   \n",
       "1540                             Algeria  2016             4  EFConsPerCap   \n",
       "...                                  ...   ...           ...           ...   \n",
       "18517                        El Salvador  1978            60  EFConsTotGHA   \n",
       "49917                           Portugal  1983           174  BiocapTotGHA   \n",
       "67457  Venezuela, Bolivarian Republic of  2015           236  EFProdTotGHA   \n",
       "372                          Afghanistan  1982             2  EFConsPerCap   \n",
       "50160                           Portugal  2013           174  EFProdPerCap   \n",
       "\n",
       "          crop_land  grazing_land  forest_land  fishing_ground  built_up_land  \\\n",
       "1536   2.072989e-01  8.112722e-01  0.048357265    2.258528e-02   2.998367e-02   \n",
       "1537   8.417600e+06  3.294260e+07      1963600    9.171000e+05   1.217520e+06   \n",
       "1538   2.021916e-01  2.636077e-01  0.027166736    7.947991e-03   2.924496e-02   \n",
       "1539   8.210214e+06  1.070408e+07  1103135.245    3.227369e+05   1.187524e+06   \n",
       "1540   6.280528e-01  1.810332e-01  0.162800822    1.472910e-02   2.924496e-02   \n",
       "...             ...           ...          ...             ...            ...   \n",
       "18517  1.426707e+06  8.448342e+05  1511534.046    2.235366e+04   3.120571e+05   \n",
       "49917  2.421672e+06  7.510571e+05  8675585.105    7.848406e+05   1.520129e+05   \n",
       "67457  3.463971e+06  1.732704e+07  2547600.481    2.128542e+06   9.241772e+05   \n",
       "372    3.792774e-01  4.080230e-01  0.111879558    8.700000e-05   2.658155e-02   \n",
       "50160  2.440756e-01  6.086513e-02  0.697083782    2.204087e-01   2.300852e-02   \n",
       "\n",
       "             carbon         total QScore  \n",
       "1536   0.000000e+00  1.119497e+00     2A  \n",
       "1537   0.000000e+00  4.545842e+07     2A  \n",
       "1538   0.000000e+00  5.301590e-01     2A  \n",
       "1539   0.000000e+00  2.152769e+07     2A  \n",
       "1540   1.391455e+00  2.407316e+00     2A  \n",
       "...             ...           ...    ...  \n",
       "18517  1.703008e+06  5.820495e+06     3A  \n",
       "49917  0.000000e+00  1.278517e+07     3A  \n",
       "67457  5.039439e+07  7.678571e+07     3A  \n",
       "372    7.858304e-02  1.004432e+00     3A  \n",
       "50160  1.564888e+00  2.810330e+00     3A  \n",
       "\n",
       "[590 rows x 12 columns]"
      ]
     },
     "execution_count": 13,
     "metadata": {},
     "output_type": "execute_result"
    }
   ],
   "source": [
    "data_df"
   ]
  },
  {
   "cell_type": "code",
   "execution_count": 14,
   "id": "797fc0c6",
   "metadata": {},
   "outputs": [],
   "source": [
    "import sklearn.utils"
   ]
  },
  {
   "cell_type": "code",
   "execution_count": 15,
   "id": "7e66d9d3",
   "metadata": {},
   "outputs": [],
   "source": [
    "data_df=sklearn.utils.shuffle(data_df)"
   ]
  },
  {
   "cell_type": "code",
   "execution_count": 16,
   "id": "a936c578",
   "metadata": {},
   "outputs": [
    {
     "data": {
      "text/html": [
       "<div>\n",
       "<style scoped>\n",
       "    .dataframe tbody tr th:only-of-type {\n",
       "        vertical-align: middle;\n",
       "    }\n",
       "\n",
       "    .dataframe tbody tr th {\n",
       "        vertical-align: top;\n",
       "    }\n",
       "\n",
       "    .dataframe thead th {\n",
       "        text-align: right;\n",
       "    }\n",
       "</style>\n",
       "<table border=\"1\" class=\"dataframe\">\n",
       "  <thead>\n",
       "    <tr style=\"text-align: right;\">\n",
       "      <th></th>\n",
       "      <th>country</th>\n",
       "      <th>year</th>\n",
       "      <th>country_code</th>\n",
       "      <th>record</th>\n",
       "      <th>crop_land</th>\n",
       "      <th>grazing_land</th>\n",
       "      <th>forest_land</th>\n",
       "      <th>fishing_ground</th>\n",
       "      <th>built_up_land</th>\n",
       "      <th>carbon</th>\n",
       "      <th>total</th>\n",
       "      <th>QScore</th>\n",
       "    </tr>\n",
       "  </thead>\n",
       "  <tbody>\n",
       "    <tr>\n",
       "      <th>1536</th>\n",
       "      <td>Algeria</td>\n",
       "      <td>2016</td>\n",
       "      <td>4</td>\n",
       "      <td>AreaPerCap</td>\n",
       "      <td>2.072989e-01</td>\n",
       "      <td>8.112722e-01</td>\n",
       "      <td>0.048357265</td>\n",
       "      <td>2.258528e-02</td>\n",
       "      <td>2.998367e-02</td>\n",
       "      <td>0.000000e+00</td>\n",
       "      <td>1.119497e+00</td>\n",
       "      <td>2A</td>\n",
       "    </tr>\n",
       "    <tr>\n",
       "      <th>59426</th>\n",
       "      <td>Switzerland</td>\n",
       "      <td>1969</td>\n",
       "      <td>211</td>\n",
       "      <td>AreaPerCap</td>\n",
       "      <td>1.135413e-01</td>\n",
       "      <td>1.717734e-01</td>\n",
       "      <td>0.164812729</td>\n",
       "      <td>2.318310e-02</td>\n",
       "      <td>3.764946e-02</td>\n",
       "      <td>0.000000e+00</td>\n",
       "      <td>5.109600e-01</td>\n",
       "      <td>3A</td>\n",
       "    </tr>\n",
       "    <tr>\n",
       "      <th>52569</th>\n",
       "      <td>Romania</td>\n",
       "      <td>1980</td>\n",
       "      <td>183</td>\n",
       "      <td>EFProdTotGHA</td>\n",
       "      <td>2.195579e+07</td>\n",
       "      <td>2.394070e+06</td>\n",
       "      <td>11545181.71</td>\n",
       "      <td>6.564297e+05</td>\n",
       "      <td>2.738149e+06</td>\n",
       "      <td>6.794059e+07</td>\n",
       "      <td>1.072302e+08</td>\n",
       "      <td>3A</td>\n",
       "    </tr>\n",
       "    <tr>\n",
       "      <th>31554</th>\n",
       "      <td>Kazakhstan</td>\n",
       "      <td>2008</td>\n",
       "      <td>108</td>\n",
       "      <td>BiocapPerCap</td>\n",
       "      <td>1.167128e+00</td>\n",
       "      <td>1.922014e+00</td>\n",
       "      <td>0.247901342</td>\n",
       "      <td>5.780042e-02</td>\n",
       "      <td>3.343834e-02</td>\n",
       "      <td>0.000000e+00</td>\n",
       "      <td>3.428283e+00</td>\n",
       "      <td>3A</td>\n",
       "    </tr>\n",
       "    <tr>\n",
       "      <th>51021</th>\n",
       "      <td>Timor-Leste</td>\n",
       "      <td>2016</td>\n",
       "      <td>176</td>\n",
       "      <td>BiocapTotGHA</td>\n",
       "      <td>2.148567e+05</td>\n",
       "      <td>6.888098e+04</td>\n",
       "      <td>538809.031</td>\n",
       "      <td>1.066421e+06</td>\n",
       "      <td>4.894987e+04</td>\n",
       "      <td>0.000000e+00</td>\n",
       "      <td>1.937918e+06</td>\n",
       "      <td>2A</td>\n",
       "    </tr>\n",
       "    <tr>\n",
       "      <th>...</th>\n",
       "      <td>...</td>\n",
       "      <td>...</td>\n",
       "      <td>...</td>\n",
       "      <td>...</td>\n",
       "      <td>...</td>\n",
       "      <td>...</td>\n",
       "      <td>...</td>\n",
       "      <td>...</td>\n",
       "      <td>...</td>\n",
       "      <td>...</td>\n",
       "      <td>...</td>\n",
       "      <td>...</td>\n",
       "    </tr>\n",
       "    <tr>\n",
       "      <th>65467</th>\n",
       "      <td>Ukraine</td>\n",
       "      <td>2016</td>\n",
       "      <td>230</td>\n",
       "      <td>AreaTotHA</td>\n",
       "      <td>3.267800e+07</td>\n",
       "      <td>8.837000e+06</td>\n",
       "      <td>9678800</td>\n",
       "      <td>1.028120e+07</td>\n",
       "      <td>1.440340e+06</td>\n",
       "      <td>0.000000e+00</td>\n",
       "      <td>6.291534e+07</td>\n",
       "      <td>2A</td>\n",
       "    </tr>\n",
       "    <tr>\n",
       "      <th>23965</th>\n",
       "      <td>Ghana</td>\n",
       "      <td>1997</td>\n",
       "      <td>81</td>\n",
       "      <td>EFConsTotGHA</td>\n",
       "      <td>6.497406e+06</td>\n",
       "      <td>8.948022e+05</td>\n",
       "      <td>10144243.14</td>\n",
       "      <td>3.941338e+06</td>\n",
       "      <td>8.214522e+05</td>\n",
       "      <td>3.147551e+06</td>\n",
       "      <td>2.544679e+07</td>\n",
       "      <td>3A</td>\n",
       "    </tr>\n",
       "    <tr>\n",
       "      <th>22023</th>\n",
       "      <td>Djibouti</td>\n",
       "      <td>2016</td>\n",
       "      <td>72</td>\n",
       "      <td>EFProdTotGHA</td>\n",
       "      <td>1.562820e+04</td>\n",
       "      <td>2.030450e+05</td>\n",
       "      <td>148983.9107</td>\n",
       "      <td>2.447015e+04</td>\n",
       "      <td>1.949681e+05</td>\n",
       "      <td>2.536166e+05</td>\n",
       "      <td>8.407119e+05</td>\n",
       "      <td>2A</td>\n",
       "    </tr>\n",
       "    <tr>\n",
       "      <th>42453</th>\n",
       "      <td>Morocco</td>\n",
       "      <td>2016</td>\n",
       "      <td>143</td>\n",
       "      <td>EFConsTotGHA</td>\n",
       "      <td>2.034400e+07</td>\n",
       "      <td>5.634301e+06</td>\n",
       "      <td>5215279.784</td>\n",
       "      <td>2.980132e+06</td>\n",
       "      <td>9.241300e+05</td>\n",
       "      <td>2.488221e+07</td>\n",
       "      <td>5.998005e+07</td>\n",
       "      <td>2A</td>\n",
       "    </tr>\n",
       "    <tr>\n",
       "      <th>37683</th>\n",
       "      <td>Madagascar</td>\n",
       "      <td>1978</td>\n",
       "      <td>129</td>\n",
       "      <td>BiocapTotGHA</td>\n",
       "      <td>3.182359e+06</td>\n",
       "      <td>2.669047e+07</td>\n",
       "      <td>19618186.42</td>\n",
       "      <td>4.933207e+06</td>\n",
       "      <td>3.538316e+05</td>\n",
       "      <td>0.000000e+00</td>\n",
       "      <td>5.477805e+07</td>\n",
       "      <td>3A</td>\n",
       "    </tr>\n",
       "  </tbody>\n",
       "</table>\n",
       "<p>590 rows × 12 columns</p>\n",
       "</div>"
      ],
      "text/plain": [
       "           country  year  country_code        record     crop_land  \\\n",
       "1536       Algeria  2016             4    AreaPerCap  2.072989e-01   \n",
       "59426  Switzerland  1969           211    AreaPerCap  1.135413e-01   \n",
       "52569      Romania  1980           183  EFProdTotGHA  2.195579e+07   \n",
       "31554   Kazakhstan  2008           108  BiocapPerCap  1.167128e+00   \n",
       "51021  Timor-Leste  2016           176  BiocapTotGHA  2.148567e+05   \n",
       "...            ...   ...           ...           ...           ...   \n",
       "65467      Ukraine  2016           230     AreaTotHA  3.267800e+07   \n",
       "23965        Ghana  1997            81  EFConsTotGHA  6.497406e+06   \n",
       "22023     Djibouti  2016            72  EFProdTotGHA  1.562820e+04   \n",
       "42453      Morocco  2016           143  EFConsTotGHA  2.034400e+07   \n",
       "37683   Madagascar  1978           129  BiocapTotGHA  3.182359e+06   \n",
       "\n",
       "       grazing_land  forest_land  fishing_ground  built_up_land        carbon  \\\n",
       "1536   8.112722e-01  0.048357265    2.258528e-02   2.998367e-02  0.000000e+00   \n",
       "59426  1.717734e-01  0.164812729    2.318310e-02   3.764946e-02  0.000000e+00   \n",
       "52569  2.394070e+06  11545181.71    6.564297e+05   2.738149e+06  6.794059e+07   \n",
       "31554  1.922014e+00  0.247901342    5.780042e-02   3.343834e-02  0.000000e+00   \n",
       "51021  6.888098e+04   538809.031    1.066421e+06   4.894987e+04  0.000000e+00   \n",
       "...             ...          ...             ...            ...           ...   \n",
       "65467  8.837000e+06      9678800    1.028120e+07   1.440340e+06  0.000000e+00   \n",
       "23965  8.948022e+05  10144243.14    3.941338e+06   8.214522e+05  3.147551e+06   \n",
       "22023  2.030450e+05  148983.9107    2.447015e+04   1.949681e+05  2.536166e+05   \n",
       "42453  5.634301e+06  5215279.784    2.980132e+06   9.241300e+05  2.488221e+07   \n",
       "37683  2.669047e+07  19618186.42    4.933207e+06   3.538316e+05  0.000000e+00   \n",
       "\n",
       "              total QScore  \n",
       "1536   1.119497e+00     2A  \n",
       "59426  5.109600e-01     3A  \n",
       "52569  1.072302e+08     3A  \n",
       "31554  3.428283e+00     3A  \n",
       "51021  1.937918e+06     2A  \n",
       "...             ...    ...  \n",
       "65467  6.291534e+07     2A  \n",
       "23965  2.544679e+07     3A  \n",
       "22023  8.407119e+05     2A  \n",
       "42453  5.998005e+07     2A  \n",
       "37683  5.477805e+07     3A  \n",
       "\n",
       "[590 rows x 12 columns]"
      ]
     },
     "execution_count": 16,
     "metadata": {},
     "output_type": "execute_result"
    }
   ],
   "source": [
    "data_df"
   ]
  },
  {
   "cell_type": "code",
   "execution_count": 17,
   "id": "59152fb7",
   "metadata": {},
   "outputs": [],
   "source": [
    "data_df=data_df.reset_index(drop=True)"
   ]
  },
  {
   "cell_type": "code",
   "execution_count": 18,
   "id": "4dbfdd4d",
   "metadata": {},
   "outputs": [
    {
     "data": {
      "text/plain": [
       "(590, 12)"
      ]
     },
     "execution_count": 18,
     "metadata": {},
     "output_type": "execute_result"
    }
   ],
   "source": [
    "data_df.shape"
   ]
  },
  {
   "cell_type": "code",
   "execution_count": 19,
   "id": "0c71fd95",
   "metadata": {},
   "outputs": [
    {
     "data": {
      "text/plain": [
       "3A    350\n",
       "2A    240\n",
       "Name: QScore, dtype: int64"
      ]
     },
     "execution_count": 19,
     "metadata": {},
     "output_type": "execute_result"
    }
   ],
   "source": [
    "data_df['QScore'].value_counts()"
   ]
  },
  {
   "cell_type": "code",
   "execution_count": 20,
   "id": "e39d0f15",
   "metadata": {},
   "outputs": [
    {
     "data": {
      "text/html": [
       "<div>\n",
       "<style scoped>\n",
       "    .dataframe tbody tr th:only-of-type {\n",
       "        vertical-align: middle;\n",
       "    }\n",
       "\n",
       "    .dataframe tbody tr th {\n",
       "        vertical-align: top;\n",
       "    }\n",
       "\n",
       "    .dataframe thead th {\n",
       "        text-align: right;\n",
       "    }\n",
       "</style>\n",
       "<table border=\"1\" class=\"dataframe\">\n",
       "  <thead>\n",
       "    <tr style=\"text-align: right;\">\n",
       "      <th></th>\n",
       "      <th>country</th>\n",
       "      <th>year</th>\n",
       "      <th>country_code</th>\n",
       "      <th>record</th>\n",
       "      <th>crop_land</th>\n",
       "      <th>grazing_land</th>\n",
       "      <th>forest_land</th>\n",
       "      <th>fishing_ground</th>\n",
       "      <th>built_up_land</th>\n",
       "      <th>carbon</th>\n",
       "      <th>total</th>\n",
       "      <th>QScore</th>\n",
       "    </tr>\n",
       "  </thead>\n",
       "  <tbody>\n",
       "    <tr>\n",
       "      <th>0</th>\n",
       "      <td>Algeria</td>\n",
       "      <td>2016</td>\n",
       "      <td>4</td>\n",
       "      <td>AreaPerCap</td>\n",
       "      <td>2.072989e-01</td>\n",
       "      <td>8.112722e-01</td>\n",
       "      <td>0.048357265</td>\n",
       "      <td>2.258528e-02</td>\n",
       "      <td>2.998367e-02</td>\n",
       "      <td>0.0</td>\n",
       "      <td>1.119497e+00</td>\n",
       "      <td>2A</td>\n",
       "    </tr>\n",
       "    <tr>\n",
       "      <th>1</th>\n",
       "      <td>Switzerland</td>\n",
       "      <td>1969</td>\n",
       "      <td>211</td>\n",
       "      <td>AreaPerCap</td>\n",
       "      <td>1.135413e-01</td>\n",
       "      <td>1.717734e-01</td>\n",
       "      <td>0.164812729</td>\n",
       "      <td>2.318310e-02</td>\n",
       "      <td>3.764946e-02</td>\n",
       "      <td>0.0</td>\n",
       "      <td>5.109600e-01</td>\n",
       "      <td>3A</td>\n",
       "    </tr>\n",
       "    <tr>\n",
       "      <th>2</th>\n",
       "      <td>Romania</td>\n",
       "      <td>1980</td>\n",
       "      <td>183</td>\n",
       "      <td>EFProdTotGHA</td>\n",
       "      <td>2.195579e+07</td>\n",
       "      <td>2.394070e+06</td>\n",
       "      <td>11545181.71</td>\n",
       "      <td>6.564297e+05</td>\n",
       "      <td>2.738149e+06</td>\n",
       "      <td>67940587.2</td>\n",
       "      <td>1.072302e+08</td>\n",
       "      <td>3A</td>\n",
       "    </tr>\n",
       "    <tr>\n",
       "      <th>3</th>\n",
       "      <td>Kazakhstan</td>\n",
       "      <td>2008</td>\n",
       "      <td>108</td>\n",
       "      <td>BiocapPerCap</td>\n",
       "      <td>1.167128e+00</td>\n",
       "      <td>1.922014e+00</td>\n",
       "      <td>0.247901342</td>\n",
       "      <td>5.780042e-02</td>\n",
       "      <td>3.343834e-02</td>\n",
       "      <td>0.0</td>\n",
       "      <td>3.428283e+00</td>\n",
       "      <td>3A</td>\n",
       "    </tr>\n",
       "    <tr>\n",
       "      <th>4</th>\n",
       "      <td>Timor-Leste</td>\n",
       "      <td>2016</td>\n",
       "      <td>176</td>\n",
       "      <td>BiocapTotGHA</td>\n",
       "      <td>2.148567e+05</td>\n",
       "      <td>6.888098e+04</td>\n",
       "      <td>538809.031</td>\n",
       "      <td>1.066421e+06</td>\n",
       "      <td>4.894987e+04</td>\n",
       "      <td>0.0</td>\n",
       "      <td>1.937918e+06</td>\n",
       "      <td>2A</td>\n",
       "    </tr>\n",
       "  </tbody>\n",
       "</table>\n",
       "</div>"
      ],
      "text/plain": [
       "       country  year  country_code        record     crop_land  grazing_land  \\\n",
       "0      Algeria  2016             4    AreaPerCap  2.072989e-01  8.112722e-01   \n",
       "1  Switzerland  1969           211    AreaPerCap  1.135413e-01  1.717734e-01   \n",
       "2      Romania  1980           183  EFProdTotGHA  2.195579e+07  2.394070e+06   \n",
       "3   Kazakhstan  2008           108  BiocapPerCap  1.167128e+00  1.922014e+00   \n",
       "4  Timor-Leste  2016           176  BiocapTotGHA  2.148567e+05  6.888098e+04   \n",
       "\n",
       "   forest_land  fishing_ground  built_up_land      carbon         total QScore  \n",
       "0  0.048357265    2.258528e-02   2.998367e-02         0.0  1.119497e+00     2A  \n",
       "1  0.164812729    2.318310e-02   3.764946e-02         0.0  5.109600e-01     3A  \n",
       "2  11545181.71    6.564297e+05   2.738149e+06  67940587.2  1.072302e+08     3A  \n",
       "3  0.247901342    5.780042e-02   3.343834e-02         0.0  3.428283e+00     3A  \n",
       "4   538809.031    1.066421e+06   4.894987e+04         0.0  1.937918e+06     2A  "
      ]
     },
     "execution_count": 20,
     "metadata": {},
     "output_type": "execute_result"
    }
   ],
   "source": [
    "data_df.head()"
   ]
  },
  {
   "cell_type": "code",
   "execution_count": 21,
   "id": "9a808cca",
   "metadata": {},
   "outputs": [],
   "source": [
    "data_df.drop(columns=['country','year','country_code'], inplace=True)"
   ]
  },
  {
   "cell_type": "code",
   "execution_count": 22,
   "id": "6243fcba",
   "metadata": {},
   "outputs": [
    {
     "data": {
      "text/html": [
       "<div>\n",
       "<style scoped>\n",
       "    .dataframe tbody tr th:only-of-type {\n",
       "        vertical-align: middle;\n",
       "    }\n",
       "\n",
       "    .dataframe tbody tr th {\n",
       "        vertical-align: top;\n",
       "    }\n",
       "\n",
       "    .dataframe thead th {\n",
       "        text-align: right;\n",
       "    }\n",
       "</style>\n",
       "<table border=\"1\" class=\"dataframe\">\n",
       "  <thead>\n",
       "    <tr style=\"text-align: right;\">\n",
       "      <th></th>\n",
       "      <th>record</th>\n",
       "      <th>crop_land</th>\n",
       "      <th>grazing_land</th>\n",
       "      <th>forest_land</th>\n",
       "      <th>fishing_ground</th>\n",
       "      <th>built_up_land</th>\n",
       "      <th>carbon</th>\n",
       "      <th>total</th>\n",
       "      <th>QScore</th>\n",
       "    </tr>\n",
       "  </thead>\n",
       "  <tbody>\n",
       "    <tr>\n",
       "      <th>0</th>\n",
       "      <td>AreaPerCap</td>\n",
       "      <td>2.072989e-01</td>\n",
       "      <td>8.112722e-01</td>\n",
       "      <td>0.048357265</td>\n",
       "      <td>2.258528e-02</td>\n",
       "      <td>2.998367e-02</td>\n",
       "      <td>0.0</td>\n",
       "      <td>1.119497e+00</td>\n",
       "      <td>2A</td>\n",
       "    </tr>\n",
       "    <tr>\n",
       "      <th>1</th>\n",
       "      <td>AreaPerCap</td>\n",
       "      <td>1.135413e-01</td>\n",
       "      <td>1.717734e-01</td>\n",
       "      <td>0.164812729</td>\n",
       "      <td>2.318310e-02</td>\n",
       "      <td>3.764946e-02</td>\n",
       "      <td>0.0</td>\n",
       "      <td>5.109600e-01</td>\n",
       "      <td>3A</td>\n",
       "    </tr>\n",
       "    <tr>\n",
       "      <th>2</th>\n",
       "      <td>EFProdTotGHA</td>\n",
       "      <td>2.195579e+07</td>\n",
       "      <td>2.394070e+06</td>\n",
       "      <td>11545181.71</td>\n",
       "      <td>6.564297e+05</td>\n",
       "      <td>2.738149e+06</td>\n",
       "      <td>67940587.2</td>\n",
       "      <td>1.072302e+08</td>\n",
       "      <td>3A</td>\n",
       "    </tr>\n",
       "    <tr>\n",
       "      <th>3</th>\n",
       "      <td>BiocapPerCap</td>\n",
       "      <td>1.167128e+00</td>\n",
       "      <td>1.922014e+00</td>\n",
       "      <td>0.247901342</td>\n",
       "      <td>5.780042e-02</td>\n",
       "      <td>3.343834e-02</td>\n",
       "      <td>0.0</td>\n",
       "      <td>3.428283e+00</td>\n",
       "      <td>3A</td>\n",
       "    </tr>\n",
       "    <tr>\n",
       "      <th>4</th>\n",
       "      <td>BiocapTotGHA</td>\n",
       "      <td>2.148567e+05</td>\n",
       "      <td>6.888098e+04</td>\n",
       "      <td>538809.031</td>\n",
       "      <td>1.066421e+06</td>\n",
       "      <td>4.894987e+04</td>\n",
       "      <td>0.0</td>\n",
       "      <td>1.937918e+06</td>\n",
       "      <td>2A</td>\n",
       "    </tr>\n",
       "  </tbody>\n",
       "</table>\n",
       "</div>"
      ],
      "text/plain": [
       "         record     crop_land  grazing_land  forest_land  fishing_ground  \\\n",
       "0    AreaPerCap  2.072989e-01  8.112722e-01  0.048357265    2.258528e-02   \n",
       "1    AreaPerCap  1.135413e-01  1.717734e-01  0.164812729    2.318310e-02   \n",
       "2  EFProdTotGHA  2.195579e+07  2.394070e+06  11545181.71    6.564297e+05   \n",
       "3  BiocapPerCap  1.167128e+00  1.922014e+00  0.247901342    5.780042e-02   \n",
       "4  BiocapTotGHA  2.148567e+05  6.888098e+04   538809.031    1.066421e+06   \n",
       "\n",
       "   built_up_land      carbon         total QScore  \n",
       "0   2.998367e-02         0.0  1.119497e+00     2A  \n",
       "1   3.764946e-02         0.0  5.109600e-01     3A  \n",
       "2   2.738149e+06  67940587.2  1.072302e+08     3A  \n",
       "3   3.343834e-02         0.0  3.428283e+00     3A  \n",
       "4   4.894987e+04         0.0  1.937918e+06     2A  "
      ]
     },
     "execution_count": 22,
     "metadata": {},
     "output_type": "execute_result"
    }
   ],
   "source": [
    "data_df.head()"
   ]
  },
  {
   "cell_type": "code",
   "execution_count": 23,
   "id": "b39ea05a",
   "metadata": {},
   "outputs": [],
   "source": [
    "X=data_df.drop('QScore',axis=1)\n",
    "y=data_df['QScore']"
   ]
  },
  {
   "cell_type": "code",
   "execution_count": 24,
   "id": "85c67481",
   "metadata": {},
   "outputs": [],
   "source": [
    "#split the data into training and testing sets\n",
    "from sklearn.model_selection import train_test_split\n",
    "X_train, X_test, y_train, y_test = train_test_split(X, y, test_size= 0.3 , random_state=0)"
   ]
  },
  {
   "cell_type": "code",
   "execution_count": 25,
   "id": "6a552ba5",
   "metadata": {},
   "outputs": [
    {
     "data": {
      "text/plain": [
       "3A    246\n",
       "2A    167\n",
       "Name: QScore, dtype: int64"
      ]
     },
     "execution_count": 25,
     "metadata": {},
     "output_type": "execute_result"
    }
   ],
   "source": [
    "y_train.value_counts()"
   ]
  },
  {
   "cell_type": "markdown",
   "id": "02df7f7e",
   "metadata": {},
   "source": [
    "There is still an imbalance in the class distribution. For this, we use SMOTE only on the\n",
    "\n",
    "\n",
    "training data to handle this."
   ]
  },
  {
   "cell_type": "code",
   "execution_count": 26,
   "id": "82277691",
   "metadata": {},
   "outputs": [
    {
     "data": {
      "text/html": [
       "<div>\n",
       "<style scoped>\n",
       "    .dataframe tbody tr th:only-of-type {\n",
       "        vertical-align: middle;\n",
       "    }\n",
       "\n",
       "    .dataframe tbody tr th {\n",
       "        vertical-align: top;\n",
       "    }\n",
       "\n",
       "    .dataframe thead th {\n",
       "        text-align: right;\n",
       "    }\n",
       "</style>\n",
       "<table border=\"1\" class=\"dataframe\">\n",
       "  <thead>\n",
       "    <tr style=\"text-align: right;\">\n",
       "      <th></th>\n",
       "      <th>record</th>\n",
       "      <th>crop_land</th>\n",
       "      <th>grazing_land</th>\n",
       "      <th>forest_land</th>\n",
       "      <th>fishing_ground</th>\n",
       "      <th>built_up_land</th>\n",
       "      <th>carbon</th>\n",
       "      <th>total</th>\n",
       "    </tr>\n",
       "  </thead>\n",
       "  <tbody>\n",
       "    <tr>\n",
       "      <th>285</th>\n",
       "      <td>EFProdPerCap</td>\n",
       "      <td>0.035724</td>\n",
       "      <td>0.465888</td>\n",
       "      <td>0.443201339</td>\n",
       "      <td>3.682909e-03</td>\n",
       "      <td>0.023631</td>\n",
       "      <td>1.736005e-02</td>\n",
       "      <td>9.894872e-01</td>\n",
       "    </tr>\n",
       "    <tr>\n",
       "      <th>113</th>\n",
       "      <td>BiocapTotGHA</td>\n",
       "      <td>388536.624200</td>\n",
       "      <td>3673.652281</td>\n",
       "      <td>1221099.829</td>\n",
       "      <td>6.652650e+05</td>\n",
       "      <td>146756.494900</td>\n",
       "      <td>0.000000e+00</td>\n",
       "      <td>2.425332e+06</td>\n",
       "    </tr>\n",
       "    <tr>\n",
       "      <th>18</th>\n",
       "      <td>EFProdTotGHA</td>\n",
       "      <td>103564.424600</td>\n",
       "      <td>7070.478866</td>\n",
       "      <td>867208.3107</td>\n",
       "      <td>6.262541e+04</td>\n",
       "      <td>27456.310840</td>\n",
       "      <td>1.661044e+06</td>\n",
       "      <td>2.728969e+06</td>\n",
       "    </tr>\n",
       "    <tr>\n",
       "      <th>76</th>\n",
       "      <td>AreaTotHA</td>\n",
       "      <td>6000.000000</td>\n",
       "      <td>50000.000000</td>\n",
       "      <td>0</td>\n",
       "      <td>3.017600e+06</td>\n",
       "      <td>10474.300380</td>\n",
       "      <td>0.000000e+00</td>\n",
       "      <td>3.084074e+06</td>\n",
       "    </tr>\n",
       "    <tr>\n",
       "      <th>206</th>\n",
       "      <td>EFConsTotGHA</td>\n",
       "      <td>436824.846300</td>\n",
       "      <td>234720.495600</td>\n",
       "      <td>222127.9262</td>\n",
       "      <td>4.306074e+04</td>\n",
       "      <td>62943.448930</td>\n",
       "      <td>7.069367e+06</td>\n",
       "      <td>8.069045e+06</td>\n",
       "    </tr>\n",
       "  </tbody>\n",
       "</table>\n",
       "</div>"
      ],
      "text/plain": [
       "           record      crop_land   grazing_land  forest_land  fishing_ground  \\\n",
       "285  EFProdPerCap       0.035724       0.465888  0.443201339    3.682909e-03   \n",
       "113  BiocapTotGHA  388536.624200    3673.652281  1221099.829    6.652650e+05   \n",
       "18   EFProdTotGHA  103564.424600    7070.478866  867208.3107    6.262541e+04   \n",
       "76      AreaTotHA    6000.000000   50000.000000            0    3.017600e+06   \n",
       "206  EFConsTotGHA  436824.846300  234720.495600  222127.9262    4.306074e+04   \n",
       "\n",
       "     built_up_land        carbon         total  \n",
       "285       0.023631  1.736005e-02  9.894872e-01  \n",
       "113  146756.494900  0.000000e+00  2.425332e+06  \n",
       "18    27456.310840  1.661044e+06  2.728969e+06  \n",
       "76    10474.300380  0.000000e+00  3.084074e+06  \n",
       "206   62943.448930  7.069367e+06  8.069045e+06  "
      ]
     },
     "execution_count": 26,
     "metadata": {},
     "output_type": "execute_result"
    }
   ],
   "source": [
    "X_train.head()"
   ]
  },
  {
   "cell_type": "code",
   "execution_count": 27,
   "id": "6713cbb6",
   "metadata": {},
   "outputs": [],
   "source": [
    "#Encode Categorical Variable\n",
    "from sklearn.preprocessing import LabelEncoder"
   ]
  },
  {
   "cell_type": "code",
   "execution_count": 28,
   "id": "47755135",
   "metadata": {},
   "outputs": [],
   "source": [
    "label=LabelEncoder()"
   ]
  },
  {
   "cell_type": "code",
   "execution_count": 29,
   "id": "08ee23a3",
   "metadata": {},
   "outputs": [],
   "source": [
    "X_train['record']=label.fit_transform(X_train['record'])"
   ]
  },
  {
   "cell_type": "code",
   "execution_count": 30,
   "id": "e5fa7425",
   "metadata": {},
   "outputs": [
    {
     "data": {
      "text/html": [
       "<div>\n",
       "<style scoped>\n",
       "    .dataframe tbody tr th:only-of-type {\n",
       "        vertical-align: middle;\n",
       "    }\n",
       "\n",
       "    .dataframe tbody tr th {\n",
       "        vertical-align: top;\n",
       "    }\n",
       "\n",
       "    .dataframe thead th {\n",
       "        text-align: right;\n",
       "    }\n",
       "</style>\n",
       "<table border=\"1\" class=\"dataframe\">\n",
       "  <thead>\n",
       "    <tr style=\"text-align: right;\">\n",
       "      <th></th>\n",
       "      <th>record</th>\n",
       "      <th>crop_land</th>\n",
       "      <th>grazing_land</th>\n",
       "      <th>forest_land</th>\n",
       "      <th>fishing_ground</th>\n",
       "      <th>built_up_land</th>\n",
       "      <th>carbon</th>\n",
       "      <th>total</th>\n",
       "    </tr>\n",
       "  </thead>\n",
       "  <tbody>\n",
       "    <tr>\n",
       "      <th>285</th>\n",
       "      <td>6</td>\n",
       "      <td>0.035724</td>\n",
       "      <td>0.465888</td>\n",
       "      <td>0.443201339</td>\n",
       "      <td>3.682909e-03</td>\n",
       "      <td>0.023631</td>\n",
       "      <td>1.736005e-02</td>\n",
       "      <td>9.894872e-01</td>\n",
       "    </tr>\n",
       "    <tr>\n",
       "      <th>113</th>\n",
       "      <td>3</td>\n",
       "      <td>388536.624200</td>\n",
       "      <td>3673.652281</td>\n",
       "      <td>1221099.829</td>\n",
       "      <td>6.652650e+05</td>\n",
       "      <td>146756.494900</td>\n",
       "      <td>0.000000e+00</td>\n",
       "      <td>2.425332e+06</td>\n",
       "    </tr>\n",
       "    <tr>\n",
       "      <th>18</th>\n",
       "      <td>7</td>\n",
       "      <td>103564.424600</td>\n",
       "      <td>7070.478866</td>\n",
       "      <td>867208.3107</td>\n",
       "      <td>6.262541e+04</td>\n",
       "      <td>27456.310840</td>\n",
       "      <td>1.661044e+06</td>\n",
       "      <td>2.728969e+06</td>\n",
       "    </tr>\n",
       "    <tr>\n",
       "      <th>76</th>\n",
       "      <td>1</td>\n",
       "      <td>6000.000000</td>\n",
       "      <td>50000.000000</td>\n",
       "      <td>0</td>\n",
       "      <td>3.017600e+06</td>\n",
       "      <td>10474.300380</td>\n",
       "      <td>0.000000e+00</td>\n",
       "      <td>3.084074e+06</td>\n",
       "    </tr>\n",
       "    <tr>\n",
       "      <th>206</th>\n",
       "      <td>5</td>\n",
       "      <td>436824.846300</td>\n",
       "      <td>234720.495600</td>\n",
       "      <td>222127.9262</td>\n",
       "      <td>4.306074e+04</td>\n",
       "      <td>62943.448930</td>\n",
       "      <td>7.069367e+06</td>\n",
       "      <td>8.069045e+06</td>\n",
       "    </tr>\n",
       "  </tbody>\n",
       "</table>\n",
       "</div>"
      ],
      "text/plain": [
       "     record      crop_land   grazing_land  forest_land  fishing_ground  \\\n",
       "285       6       0.035724       0.465888  0.443201339    3.682909e-03   \n",
       "113       3  388536.624200    3673.652281  1221099.829    6.652650e+05   \n",
       "18        7  103564.424600    7070.478866  867208.3107    6.262541e+04   \n",
       "76        1    6000.000000   50000.000000            0    3.017600e+06   \n",
       "206       5  436824.846300  234720.495600  222127.9262    4.306074e+04   \n",
       "\n",
       "     built_up_land        carbon         total  \n",
       "285       0.023631  1.736005e-02  9.894872e-01  \n",
       "113  146756.494900  0.000000e+00  2.425332e+06  \n",
       "18    27456.310840  1.661044e+06  2.728969e+06  \n",
       "76    10474.300380  0.000000e+00  3.084074e+06  \n",
       "206   62943.448930  7.069367e+06  8.069045e+06  "
      ]
     },
     "execution_count": 30,
     "metadata": {},
     "output_type": "execute_result"
    }
   ],
   "source": [
    "X_train.head()"
   ]
  },
  {
   "cell_type": "code",
   "execution_count": 31,
   "id": "edffbd8b",
   "metadata": {},
   "outputs": [],
   "source": [
    "X_test['record']=label.transform(X_test['record'])"
   ]
  },
  {
   "cell_type": "code",
   "execution_count": 32,
   "id": "3f0d1598",
   "metadata": {},
   "outputs": [
    {
     "data": {
      "text/html": [
       "<div>\n",
       "<style scoped>\n",
       "    .dataframe tbody tr th:only-of-type {\n",
       "        vertical-align: middle;\n",
       "    }\n",
       "\n",
       "    .dataframe tbody tr th {\n",
       "        vertical-align: top;\n",
       "    }\n",
       "\n",
       "    .dataframe thead th {\n",
       "        text-align: right;\n",
       "    }\n",
       "</style>\n",
       "<table border=\"1\" class=\"dataframe\">\n",
       "  <thead>\n",
       "    <tr style=\"text-align: right;\">\n",
       "      <th></th>\n",
       "      <th>record</th>\n",
       "      <th>crop_land</th>\n",
       "      <th>grazing_land</th>\n",
       "      <th>forest_land</th>\n",
       "      <th>fishing_ground</th>\n",
       "      <th>built_up_land</th>\n",
       "      <th>carbon</th>\n",
       "      <th>total</th>\n",
       "    </tr>\n",
       "  </thead>\n",
       "  <tbody>\n",
       "    <tr>\n",
       "      <th>225</th>\n",
       "      <td>6</td>\n",
       "      <td>0.245790</td>\n",
       "      <td>0.002660</td>\n",
       "      <td>0.137422988</td>\n",
       "      <td>0.194233</td>\n",
       "      <td>0.050238</td>\n",
       "      <td>0.253608</td>\n",
       "      <td>8.839511e-01</td>\n",
       "    </tr>\n",
       "    <tr>\n",
       "      <th>14</th>\n",
       "      <td>3</td>\n",
       "      <td>949409.635300</td>\n",
       "      <td>829583.463200</td>\n",
       "      <td>285609.1338</td>\n",
       "      <td>46478.274220</td>\n",
       "      <td>161324.417700</td>\n",
       "      <td>0.000000</td>\n",
       "      <td>2.272405e+06</td>\n",
       "    </tr>\n",
       "    <tr>\n",
       "      <th>85</th>\n",
       "      <td>0</td>\n",
       "      <td>0.141464</td>\n",
       "      <td>0.768372</td>\n",
       "      <td>0.439728993</td>\n",
       "      <td>0.011913</td>\n",
       "      <td>0.039568</td>\n",
       "      <td>0.000000</td>\n",
       "      <td>1.401045e+00</td>\n",
       "    </tr>\n",
       "    <tr>\n",
       "      <th>418</th>\n",
       "      <td>0</td>\n",
       "      <td>0.147361</td>\n",
       "      <td>0.085142</td>\n",
       "      <td>1.274181543</td>\n",
       "      <td>0.844706</td>\n",
       "      <td>0.039067</td>\n",
       "      <td>0.000000</td>\n",
       "      <td>2.390458e+00</td>\n",
       "    </tr>\n",
       "    <tr>\n",
       "      <th>132</th>\n",
       "      <td>3</td>\n",
       "      <td>103564.424600</td>\n",
       "      <td>109479.585800</td>\n",
       "      <td>2180095.181</td>\n",
       "      <td>753434.627200</td>\n",
       "      <td>27456.310840</td>\n",
       "      <td>0.000000</td>\n",
       "      <td>3.174030e+06</td>\n",
       "    </tr>\n",
       "  </tbody>\n",
       "</table>\n",
       "</div>"
      ],
      "text/plain": [
       "     record      crop_land   grazing_land  forest_land  fishing_ground  \\\n",
       "225       6       0.245790       0.002660  0.137422988        0.194233   \n",
       "14        3  949409.635300  829583.463200  285609.1338    46478.274220   \n",
       "85        0       0.141464       0.768372  0.439728993        0.011913   \n",
       "418       0       0.147361       0.085142  1.274181543        0.844706   \n",
       "132       3  103564.424600  109479.585800  2180095.181   753434.627200   \n",
       "\n",
       "     built_up_land    carbon         total  \n",
       "225       0.050238  0.253608  8.839511e-01  \n",
       "14   161324.417700  0.000000  2.272405e+06  \n",
       "85        0.039568  0.000000  1.401045e+00  \n",
       "418       0.039067  0.000000  2.390458e+00  \n",
       "132   27456.310840  0.000000  3.174030e+06  "
      ]
     },
     "execution_count": 32,
     "metadata": {},
     "output_type": "execute_result"
    }
   ],
   "source": [
    "X_test.head()"
   ]
  },
  {
   "cell_type": "code",
   "execution_count": 33,
   "id": "2962f000",
   "metadata": {},
   "outputs": [],
   "source": [
    "import imblearn"
   ]
  },
  {
   "cell_type": "code",
   "execution_count": 34,
   "id": "433f1191",
   "metadata": {},
   "outputs": [],
   "source": [
    "from imblearn.over_sampling import SMOTE"
   ]
  },
  {
   "cell_type": "code",
   "execution_count": 35,
   "id": "9273f641",
   "metadata": {},
   "outputs": [],
   "source": [
    "smote=SMOTE(random_state=1)"
   ]
  },
  {
   "cell_type": "code",
   "execution_count": 36,
   "id": "9395dae6",
   "metadata": {},
   "outputs": [],
   "source": [
    "X_train_balance,y_balance=smote.fit_resample(X_train, y_train)"
   ]
  },
  {
   "cell_type": "code",
   "execution_count": 38,
   "id": "8928b9e1",
   "metadata": {},
   "outputs": [
    {
     "data": {
      "text/plain": [
       "2A    246\n",
       "3A    246\n",
       "Name: QScore, dtype: int64"
      ]
     },
     "execution_count": 38,
     "metadata": {},
     "output_type": "execute_result"
    }
   ],
   "source": [
    "y_balance.value_counts()"
   ]
  },
  {
   "cell_type": "code",
   "execution_count": 40,
   "id": "3d56dde8",
   "metadata": {},
   "outputs": [],
   "source": [
    "from sklearn.preprocessing import MinMaxScaler\n",
    "scaler = MinMaxScaler()\n",
    "normalised_train_df = scaler.fit_transform(X_train_balance.drop(columns=[ 'record' ]))\n",
    "normalised_train_df = pd.DataFrame(normalised_train_df, columns=X_train_balance.drop(columns=[ 'record' ]).columns)\n",
    "normalised_train_df[ 'record' ] = X_train_balance[ 'record']"
   ]
  },
  {
   "cell_type": "code",
   "execution_count": 41,
   "id": "f3dc08ed",
   "metadata": {},
   "outputs": [
    {
     "data": {
      "text/html": [
       "<div>\n",
       "<style scoped>\n",
       "    .dataframe tbody tr th:only-of-type {\n",
       "        vertical-align: middle;\n",
       "    }\n",
       "\n",
       "    .dataframe tbody tr th {\n",
       "        vertical-align: top;\n",
       "    }\n",
       "\n",
       "    .dataframe thead th {\n",
       "        text-align: right;\n",
       "    }\n",
       "</style>\n",
       "<table border=\"1\" class=\"dataframe\">\n",
       "  <thead>\n",
       "    <tr style=\"text-align: right;\">\n",
       "      <th></th>\n",
       "      <th>crop_land</th>\n",
       "      <th>grazing_land</th>\n",
       "      <th>forest_land</th>\n",
       "      <th>fishing_ground</th>\n",
       "      <th>built_up_land</th>\n",
       "      <th>carbon</th>\n",
       "      <th>total</th>\n",
       "      <th>record</th>\n",
       "    </tr>\n",
       "  </thead>\n",
       "  <tbody>\n",
       "    <tr>\n",
       "      <th>0</th>\n",
       "      <td>9.117221e-12</td>\n",
       "      <td>4.504243e-10</td>\n",
       "      <td>2.247636e-10</td>\n",
       "      <td>6.033650e-12</td>\n",
       "      <td>5.614787e-11</td>\n",
       "      <td>1.392559e-12</td>\n",
       "      <td>4.115255e-11</td>\n",
       "      <td>6</td>\n",
       "    </tr>\n",
       "    <tr>\n",
       "      <th>1</th>\n",
       "      <td>1.054224e-04</td>\n",
       "      <td>3.551721e-06</td>\n",
       "      <td>6.192644e-04</td>\n",
       "      <td>1.089893e-03</td>\n",
       "      <td>3.486938e-04</td>\n",
       "      <td>0.000000e+00</td>\n",
       "      <td>1.201297e-04</td>\n",
       "      <td>3</td>\n",
       "    </tr>\n",
       "    <tr>\n",
       "      <th>2</th>\n",
       "      <td>2.810033e-05</td>\n",
       "      <td>6.835804e-06</td>\n",
       "      <td>4.397931e-04</td>\n",
       "      <td>1.025982e-04</td>\n",
       "      <td>6.523627e-05</td>\n",
       "      <td>1.332428e-04</td>\n",
       "      <td>1.351692e-04</td>\n",
       "      <td>7</td>\n",
       "    </tr>\n",
       "    <tr>\n",
       "      <th>3</th>\n",
       "      <td>1.627991e-06</td>\n",
       "      <td>4.834046e-05</td>\n",
       "      <td>0.000000e+00</td>\n",
       "      <td>4.943685e-03</td>\n",
       "      <td>2.488697e-05</td>\n",
       "      <td>0.000000e+00</td>\n",
       "      <td>1.527580e-04</td>\n",
       "      <td>1</td>\n",
       "    </tr>\n",
       "    <tr>\n",
       "      <th>4</th>\n",
       "      <td>1.185245e-04</td>\n",
       "      <td>2.269299e-04</td>\n",
       "      <td>1.126492e-04</td>\n",
       "      <td>7.054571e-05</td>\n",
       "      <td>1.495538e-04</td>\n",
       "      <td>5.670784e-04</td>\n",
       "      <td>3.996698e-04</td>\n",
       "      <td>5</td>\n",
       "    </tr>\n",
       "  </tbody>\n",
       "</table>\n",
       "</div>"
      ],
      "text/plain": [
       "      crop_land  grazing_land   forest_land  fishing_ground  built_up_land  \\\n",
       "0  9.117221e-12  4.504243e-10  2.247636e-10    6.033650e-12   5.614787e-11   \n",
       "1  1.054224e-04  3.551721e-06  6.192644e-04    1.089893e-03   3.486938e-04   \n",
       "2  2.810033e-05  6.835804e-06  4.397931e-04    1.025982e-04   6.523627e-05   \n",
       "3  1.627991e-06  4.834046e-05  0.000000e+00    4.943685e-03   2.488697e-05   \n",
       "4  1.185245e-04  2.269299e-04  1.126492e-04    7.054571e-05   1.495538e-04   \n",
       "\n",
       "         carbon         total  record  \n",
       "0  1.392559e-12  4.115255e-11       6  \n",
       "1  0.000000e+00  1.201297e-04       3  \n",
       "2  1.332428e-04  1.351692e-04       7  \n",
       "3  0.000000e+00  1.527580e-04       1  \n",
       "4  5.670784e-04  3.996698e-04       5  "
      ]
     },
     "execution_count": 41,
     "metadata": {},
     "output_type": "execute_result"
    }
   ],
   "source": [
    "normalised_train_df.head()"
   ]
  },
  {
   "cell_type": "code",
   "execution_count": 42,
   "id": "a6d7e0f8",
   "metadata": {},
   "outputs": [],
   "source": [
    "X_test = X_test.reset_index(drop= True )\n",
    "normalised_test_df = scaler.transform(X_test.drop(columns=[ 'record' ]))\n",
    "normalised_test_df = pd.DataFrame(normalised_test_df, columns=X_test.drop(columns=[ 'record' ]).columns)\n",
    "normalised_test_df[ 'record' ] = X_test[ 'record' ]"
   ]
  },
  {
   "cell_type": "code",
   "execution_count": 43,
   "id": "1543e485",
   "metadata": {},
   "outputs": [
    {
     "data": {
      "text/html": [
       "<div>\n",
       "<style scoped>\n",
       "    .dataframe tbody tr th:only-of-type {\n",
       "        vertical-align: middle;\n",
       "    }\n",
       "\n",
       "    .dataframe tbody tr th {\n",
       "        vertical-align: top;\n",
       "    }\n",
       "\n",
       "    .dataframe thead th {\n",
       "        text-align: right;\n",
       "    }\n",
       "</style>\n",
       "<table border=\"1\" class=\"dataframe\">\n",
       "  <thead>\n",
       "    <tr style=\"text-align: right;\">\n",
       "      <th></th>\n",
       "      <th>crop_land</th>\n",
       "      <th>grazing_land</th>\n",
       "      <th>forest_land</th>\n",
       "      <th>fishing_ground</th>\n",
       "      <th>built_up_land</th>\n",
       "      <th>carbon</th>\n",
       "      <th>total</th>\n",
       "      <th>record</th>\n",
       "    </tr>\n",
       "  </thead>\n",
       "  <tbody>\n",
       "    <tr>\n",
       "      <th>0</th>\n",
       "      <td>6.611487e-11</td>\n",
       "      <td>2.571592e-12</td>\n",
       "      <td>6.969223e-11</td>\n",
       "      <td>3.182083e-10</td>\n",
       "      <td>1.193648e-10</td>\n",
       "      <td>2.034346e-11</td>\n",
       "      <td>3.592521e-11</td>\n",
       "      <td>6</td>\n",
       "    </tr>\n",
       "    <tr>\n",
       "      <th>1</th>\n",
       "      <td>2.576051e-04</td>\n",
       "      <td>8.020489e-04</td>\n",
       "      <td>1.448429e-04</td>\n",
       "      <td>7.614460e-05</td>\n",
       "      <td>3.833072e-04</td>\n",
       "      <td>0.000000e+00</td>\n",
       "      <td>1.125550e-04</td>\n",
       "      <td>3</td>\n",
       "    </tr>\n",
       "    <tr>\n",
       "      <th>2</th>\n",
       "      <td>3.780776e-11</td>\n",
       "      <td>7.428688e-10</td>\n",
       "      <td>2.230027e-10</td>\n",
       "      <td>1.951645e-11</td>\n",
       "      <td>9.401318e-11</td>\n",
       "      <td>0.000000e+00</td>\n",
       "      <td>6.153752e-11</td>\n",
       "      <td>0</td>\n",
       "    </tr>\n",
       "    <tr>\n",
       "      <th>3</th>\n",
       "      <td>3.940786e-11</td>\n",
       "      <td>8.231599e-11</td>\n",
       "      <td>6.461841e-10</td>\n",
       "      <td>1.383868e-09</td>\n",
       "      <td>9.282417e-11</td>\n",
       "      <td>0.000000e+00</td>\n",
       "      <td>1.105444e-10</td>\n",
       "      <td>0</td>\n",
       "    </tr>\n",
       "    <tr>\n",
       "      <th>4</th>\n",
       "      <td>2.810033e-05</td>\n",
       "      <td>1.058459e-04</td>\n",
       "      <td>1.105606e-03</td>\n",
       "      <td>1.234340e-03</td>\n",
       "      <td>6.523627e-05</td>\n",
       "      <td>0.000000e+00</td>\n",
       "      <td>1.572137e-04</td>\n",
       "      <td>3</td>\n",
       "    </tr>\n",
       "  </tbody>\n",
       "</table>\n",
       "</div>"
      ],
      "text/plain": [
       "      crop_land  grazing_land   forest_land  fishing_ground  built_up_land  \\\n",
       "0  6.611487e-11  2.571592e-12  6.969223e-11    3.182083e-10   1.193648e-10   \n",
       "1  2.576051e-04  8.020489e-04  1.448429e-04    7.614460e-05   3.833072e-04   \n",
       "2  3.780776e-11  7.428688e-10  2.230027e-10    1.951645e-11   9.401318e-11   \n",
       "3  3.940786e-11  8.231599e-11  6.461841e-10    1.383868e-09   9.282417e-11   \n",
       "4  2.810033e-05  1.058459e-04  1.105606e-03    1.234340e-03   6.523627e-05   \n",
       "\n",
       "         carbon         total  record  \n",
       "0  2.034346e-11  3.592521e-11       6  \n",
       "1  0.000000e+00  1.125550e-04       3  \n",
       "2  0.000000e+00  6.153752e-11       0  \n",
       "3  0.000000e+00  1.105444e-10       0  \n",
       "4  0.000000e+00  1.572137e-04       3  "
      ]
     },
     "execution_count": 43,
     "metadata": {},
     "output_type": "execute_result"
    }
   ],
   "source": [
    "normalised_test_df.head()"
   ]
  },
  {
   "cell_type": "code",
   "execution_count": 45,
   "id": "f3e7f10d",
   "metadata": {},
   "outputs": [],
   "source": [
    "from sklearn.linear_model import LogisticRegression"
   ]
  },
  {
   "cell_type": "code",
   "execution_count": 46,
   "id": "d81e4469",
   "metadata": {},
   "outputs": [],
   "source": [
    "log_reg=LogisticRegression()"
   ]
  },
  {
   "cell_type": "code",
   "execution_count": 47,
   "id": "1e6a6532",
   "metadata": {},
   "outputs": [
    {
     "data": {
      "text/html": [
       "<style>#sk-container-id-1 {color: black;background-color: white;}#sk-container-id-1 pre{padding: 0;}#sk-container-id-1 div.sk-toggleable {background-color: white;}#sk-container-id-1 label.sk-toggleable__label {cursor: pointer;display: block;width: 100%;margin-bottom: 0;padding: 0.3em;box-sizing: border-box;text-align: center;}#sk-container-id-1 label.sk-toggleable__label-arrow:before {content: \"▸\";float: left;margin-right: 0.25em;color: #696969;}#sk-container-id-1 label.sk-toggleable__label-arrow:hover:before {color: black;}#sk-container-id-1 div.sk-estimator:hover label.sk-toggleable__label-arrow:before {color: black;}#sk-container-id-1 div.sk-toggleable__content {max-height: 0;max-width: 0;overflow: hidden;text-align: left;background-color: #f0f8ff;}#sk-container-id-1 div.sk-toggleable__content pre {margin: 0.2em;color: black;border-radius: 0.25em;background-color: #f0f8ff;}#sk-container-id-1 input.sk-toggleable__control:checked~div.sk-toggleable__content {max-height: 200px;max-width: 100%;overflow: auto;}#sk-container-id-1 input.sk-toggleable__control:checked~label.sk-toggleable__label-arrow:before {content: \"▾\";}#sk-container-id-1 div.sk-estimator input.sk-toggleable__control:checked~label.sk-toggleable__label {background-color: #d4ebff;}#sk-container-id-1 div.sk-label input.sk-toggleable__control:checked~label.sk-toggleable__label {background-color: #d4ebff;}#sk-container-id-1 input.sk-hidden--visually {border: 0;clip: rect(1px 1px 1px 1px);clip: rect(1px, 1px, 1px, 1px);height: 1px;margin: -1px;overflow: hidden;padding: 0;position: absolute;width: 1px;}#sk-container-id-1 div.sk-estimator {font-family: monospace;background-color: #f0f8ff;border: 1px dotted black;border-radius: 0.25em;box-sizing: border-box;margin-bottom: 0.5em;}#sk-container-id-1 div.sk-estimator:hover {background-color: #d4ebff;}#sk-container-id-1 div.sk-parallel-item::after {content: \"\";width: 100%;border-bottom: 1px solid gray;flex-grow: 1;}#sk-container-id-1 div.sk-label:hover label.sk-toggleable__label {background-color: #d4ebff;}#sk-container-id-1 div.sk-serial::before {content: \"\";position: absolute;border-left: 1px solid gray;box-sizing: border-box;top: 0;bottom: 0;left: 50%;z-index: 0;}#sk-container-id-1 div.sk-serial {display: flex;flex-direction: column;align-items: center;background-color: white;padding-right: 0.2em;padding-left: 0.2em;position: relative;}#sk-container-id-1 div.sk-item {position: relative;z-index: 1;}#sk-container-id-1 div.sk-parallel {display: flex;align-items: stretch;justify-content: center;background-color: white;position: relative;}#sk-container-id-1 div.sk-item::before, #sk-container-id-1 div.sk-parallel-item::before {content: \"\";position: absolute;border-left: 1px solid gray;box-sizing: border-box;top: 0;bottom: 0;left: 50%;z-index: -1;}#sk-container-id-1 div.sk-parallel-item {display: flex;flex-direction: column;z-index: 1;position: relative;background-color: white;}#sk-container-id-1 div.sk-parallel-item:first-child::after {align-self: flex-end;width: 50%;}#sk-container-id-1 div.sk-parallel-item:last-child::after {align-self: flex-start;width: 50%;}#sk-container-id-1 div.sk-parallel-item:only-child::after {width: 0;}#sk-container-id-1 div.sk-dashed-wrapped {border: 1px dashed gray;margin: 0 0.4em 0.5em 0.4em;box-sizing: border-box;padding-bottom: 0.4em;background-color: white;}#sk-container-id-1 div.sk-label label {font-family: monospace;font-weight: bold;display: inline-block;line-height: 1.2em;}#sk-container-id-1 div.sk-label-container {text-align: center;}#sk-container-id-1 div.sk-container {/* jupyter's `normalize.less` sets `[hidden] { display: none; }` but bootstrap.min.css set `[hidden] { display: none !important; }` so we also need the `!important` here to be able to override the default hidden behavior on the sphinx rendered scikit-learn.org. See: https://github.com/scikit-learn/scikit-learn/issues/21755 */display: inline-block !important;position: relative;}#sk-container-id-1 div.sk-text-repr-fallback {display: none;}</style><div id=\"sk-container-id-1\" class=\"sk-top-container\"><div class=\"sk-text-repr-fallback\"><pre>LogisticRegression()</pre><b>In a Jupyter environment, please rerun this cell to show the HTML representation or trust the notebook. <br />On GitHub, the HTML representation is unable to render, please try loading this page with nbviewer.org.</b></div><div class=\"sk-container\" hidden><div class=\"sk-item\"><div class=\"sk-estimator sk-toggleable\"><input class=\"sk-toggleable__control sk-hidden--visually\" id=\"sk-estimator-id-1\" type=\"checkbox\" checked><label for=\"sk-estimator-id-1\" class=\"sk-toggleable__label sk-toggleable__label-arrow\">LogisticRegression</label><div class=\"sk-toggleable__content\"><pre>LogisticRegression()</pre></div></div></div></div></div>"
      ],
      "text/plain": [
       "LogisticRegression()"
      ]
     },
     "execution_count": 47,
     "metadata": {},
     "output_type": "execute_result"
    }
   ],
   "source": [
    "log_reg.fit(normalised_train_df,y_balance)"
   ]
  },
  {
   "cell_type": "code",
   "execution_count": 48,
   "id": "6f924401",
   "metadata": {},
   "outputs": [],
   "source": [
    "from sklearn.metrics import confusion_matrix,classification_report,f1_score, accuracy_score,precision_score,recall_score"
   ]
  },
  {
   "cell_type": "code",
   "execution_count": 49,
   "id": "49fa39cf",
   "metadata": {},
   "outputs": [],
   "source": [
    "from sklearn.model_selection import cross_val_score"
   ]
  },
  {
   "cell_type": "code",
   "execution_count": 53,
   "id": "a876d7be",
   "metadata": {},
   "outputs": [],
   "source": [
    "score=cross_val_score(log_reg,normalised_train_df,y_balance,cv=5, scoring='f1_macro')"
   ]
  },
  {
   "cell_type": "code",
   "execution_count": 54,
   "id": "980b176a",
   "metadata": {},
   "outputs": [
    {
     "data": {
      "text/plain": [
       "0.476354163331952"
      ]
     },
     "execution_count": 54,
     "metadata": {},
     "output_type": "execute_result"
    }
   ],
   "source": [
    "score.mean()"
   ]
  },
  {
   "cell_type": "code",
   "execution_count": 55,
   "id": "c5c55a06",
   "metadata": {},
   "outputs": [],
   "source": [
    "from sklearn.model_selection import KFold"
   ]
  },
  {
   "cell_type": "code",
   "execution_count": 62,
   "id": "2bd4d8e5",
   "metadata": {},
   "outputs": [],
   "source": [
    "kf=KFold(n_splits=5)\n",
    "kf.split(normalised_train_df)\n",
    "\n",
    "f1_scores =[]\n",
    "#run for every split\n",
    "for train_index, test_index in kf.split(normalised_train_df):\n",
    "    \n",
    "    x_train, x_test = normalised_train_df.iloc[train_index],normalised_train_df.iloc[test_index]\n",
    "    yy_train, yy_test = y_balance[train_index],y_balance[test_index]\n",
    "    model = LogisticRegression().fit(x_train, yy_train)\n",
    "    #save result to list\n",
    "    f1_scores.append(f1_score(y_true=yy_test, y_pred=model.predict(x_test),pos_label= '2A' )* 100 )\n",
    "     "
   ]
  },
  {
   "cell_type": "code",
   "execution_count": 63,
   "id": "c1450dbd",
   "metadata": {},
   "outputs": [
    {
     "name": "stdout",
     "output_type": "stream",
     "text": [
      "[55.88235294117647, 55.88235294117647, 58.2089552238806, 57.97101449275361, 0.0]\n"
     ]
    }
   ],
   "source": [
    "print(f1_scores)"
   ]
  },
  {
   "cell_type": "code",
   "execution_count": 65,
   "id": "1a264bdf",
   "metadata": {},
   "outputs": [],
   "source": [
    "from sklearn.model_selection import StratifiedKFold\n",
    "skf = StratifiedKFold(n_splits= 5 , shuffle= True , random_state= 1 )\n",
    "f1_scores = []\n",
    "#run for every split\n",
    "for train_index, test_index in skf.split(normalised_train_df, y_balance):\n",
    "    x_train, x_test = np.array(normalised_train_df)[train_index],np.array(normalised_train_df)[test_index]\n",
    "    yy_train, yy_test = y_balance[train_index], y_balance[test_index]\n",
    "    model = LogisticRegression().fit(x_train, yy_train)\n",
    "    #save result to list\n",
    "    f1_scores.append(f1_score(y_true=yy_test, y_pred=model.predict(x_test), pos_label= '2A' ))"
   ]
  },
  {
   "cell_type": "code",
   "execution_count": 66,
   "id": "85e2d285",
   "metadata": {},
   "outputs": [
    {
     "name": "stdout",
     "output_type": "stream",
     "text": [
      "[0.42, 0.6666666666666666, 0.5420560747663551, 0.43298969072164945, 0.5142857142857142]\n"
     ]
    }
   ],
   "source": [
    "print(f1_scores)"
   ]
  },
  {
   "cell_type": "code",
   "execution_count": 67,
   "id": "ff41b113",
   "metadata": {},
   "outputs": [],
   "source": [
    "from sklearn.model_selection import LeaveOneOut\n",
    "loo = LeaveOneOut()\n",
    "scores = cross_val_score(LogisticRegression(), normalised_train_df, y_balance, cv=loo, scoring= 'f1_macro' )\n",
    "average_score = scores.mean() * 100 \n"
   ]
  },
  {
   "cell_type": "code",
   "execution_count": 68,
   "id": "f1e4d2c8",
   "metadata": {},
   "outputs": [
    {
     "data": {
      "text/plain": [
       "46.138211382113816"
      ]
     },
     "execution_count": 68,
     "metadata": {},
     "output_type": "execute_result"
    }
   ],
   "source": [
    "average_score"
   ]
  },
  {
   "cell_type": "code",
   "execution_count": 71,
   "id": "b5434c6e",
   "metadata": {},
   "outputs": [],
   "source": [
    "new_predictions=log_reg.predict(normalised_test_df)"
   ]
  },
  {
   "cell_type": "code",
   "execution_count": 72,
   "id": "e06c8757",
   "metadata": {},
   "outputs": [
    {
     "data": {
      "text/plain": [
       "array(['3A', '2A', '2A', '2A', '2A', '2A', '2A', '2A', '3A', '2A', '3A',\n",
       "       '2A', '2A', '2A', '3A', '2A', '2A', '2A', '3A', '3A', '2A', '2A',\n",
       "       '2A', '2A', '2A', '2A', '2A', '2A', '3A', '3A', '2A', '3A', '2A',\n",
       "       '3A', '3A', '3A', '2A', '2A', '3A', '2A', '3A', '2A', '2A', '2A',\n",
       "       '3A', '3A', '3A', '3A', '2A', '2A', '2A', '3A', '3A', '3A', '2A',\n",
       "       '2A', '2A', '3A', '3A', '3A', '3A', '2A', '2A', '2A', '3A', '2A',\n",
       "       '2A', '2A', '2A', '2A', '2A', '3A', '3A', '2A', '3A', '3A', '2A',\n",
       "       '3A', '3A', '2A', '3A', '3A', '2A', '3A', '2A', '3A', '2A', '2A',\n",
       "       '3A', '3A', '2A', '2A', '2A', '2A', '3A', '2A', '2A', '2A', '3A',\n",
       "       '2A', '3A', '2A', '2A', '2A', '2A', '2A', '2A', '3A', '2A', '2A',\n",
       "       '2A', '2A', '2A', '2A', '3A', '2A', '2A', '3A', '3A', '2A', '2A',\n",
       "       '2A', '3A', '2A', '3A', '2A', '2A', '3A', '2A', '2A', '2A', '2A',\n",
       "       '2A', '2A', '3A', '3A', '2A', '2A', '3A', '2A', '2A', '2A', '2A',\n",
       "       '2A', '2A', '3A', '3A', '3A', '2A', '3A', '3A', '2A', '2A', '2A',\n",
       "       '2A', '2A', '3A', '2A', '3A', '2A', '3A', '3A', '2A', '3A', '3A',\n",
       "       '3A', '3A', '2A', '2A', '2A', '3A', '3A', '2A', '2A', '3A', '3A',\n",
       "       '3A'], dtype=object)"
      ]
     },
     "execution_count": 72,
     "metadata": {},
     "output_type": "execute_result"
    }
   ],
   "source": [
    "new_predictions"
   ]
  },
  {
   "cell_type": "code",
   "execution_count": 75,
   "id": "2f791cac",
   "metadata": {},
   "outputs": [
    {
     "data": {
      "text/plain": [
       "array([[48, 25],\n",
       "       [60, 44]], dtype=int64)"
      ]
     },
     "execution_count": 75,
     "metadata": {},
     "output_type": "execute_result"
    }
   ],
   "source": [
    "confusion_matrix(y_test,new_predictions)"
   ]
  },
  {
   "cell_type": "code",
   "execution_count": 76,
   "id": "5baa74d5",
   "metadata": {},
   "outputs": [
    {
     "data": {
      "text/plain": [
       "0.519774011299435"
      ]
     },
     "execution_count": 76,
     "metadata": {},
     "output_type": "execute_result"
    }
   ],
   "source": [
    "accuracy_score(y_test,new_predictions)"
   ]
  },
  {
   "cell_type": "code",
   "execution_count": 77,
   "id": "85332f69",
   "metadata": {},
   "outputs": [
    {
     "name": "stdout",
     "output_type": "stream",
     "text": [
      "              precision    recall  f1-score   support\n",
      "\n",
      "          2A       0.44      0.66      0.53        73\n",
      "          3A       0.64      0.42      0.51       104\n",
      "\n",
      "    accuracy                           0.52       177\n",
      "   macro avg       0.54      0.54      0.52       177\n",
      "weighted avg       0.56      0.52      0.52       177\n",
      "\n"
     ]
    }
   ],
   "source": [
    "print(classification_report(y_test,new_predictions))"
   ]
  },
  {
   "cell_type": "code",
   "execution_count": 85,
   "id": "566d4b9e",
   "metadata": {},
   "outputs": [
    {
     "data": {
      "text/plain": [
       "0.4444444444444444"
      ]
     },
     "execution_count": 85,
     "metadata": {},
     "output_type": "execute_result"
    }
   ],
   "source": [
    "precision_score(y_test,new_predictions, pos_label='2A')"
   ]
  },
  {
   "cell_type": "code",
   "execution_count": 86,
   "id": "17a9db81",
   "metadata": {},
   "outputs": [
    {
     "data": {
      "text/plain": [
       "0.6575342465753424"
      ]
     },
     "execution_count": 86,
     "metadata": {},
     "output_type": "execute_result"
    }
   ],
   "source": [
    "recall_score(y_test,new_predictions,pos_label='2A')"
   ]
  },
  {
   "cell_type": "code",
   "execution_count": 87,
   "id": "9e3996fc",
   "metadata": {},
   "outputs": [
    {
     "data": {
      "text/plain": [
       "0.5303867403314917"
      ]
     },
     "execution_count": 87,
     "metadata": {},
     "output_type": "execute_result"
    }
   ],
   "source": [
    "f1_score(y_test,new_predictions,pos_label='2A')"
   ]
  },
  {
   "cell_type": "code",
   "execution_count": null,
   "id": "ae314408",
   "metadata": {},
   "outputs": [],
   "source": []
  }
 ],
 "metadata": {
  "kernelspec": {
   "display_name": "Python 3",
   "language": "python",
   "name": "python3"
  },
  "language_info": {
   "codemirror_mode": {
    "name": "ipython",
    "version": 3
   },
   "file_extension": ".py",
   "mimetype": "text/x-python",
   "name": "python",
   "nbconvert_exporter": "python",
   "pygments_lexer": "ipython3",
   "version": "3.8.8"
  }
 },
 "nbformat": 4,
 "nbformat_minor": 5
}
